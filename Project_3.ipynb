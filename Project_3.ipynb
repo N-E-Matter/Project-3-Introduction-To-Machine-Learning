{
 "cells": [
  {
   "cell_type": "markdown",
   "metadata": {},
   "source": [
    "# Рекомендация тарифов:"
   ]
  },
  {
   "cell_type": "markdown",
   "metadata": {},
   "source": [
    "В вашем распоряжении данные о поведении клиентов, которые уже перешли на эти тарифы (из проекта курса «Статистический анализ данных»). Нужно построить модель для задачи классификации, которая выберет подходящий тариф. Предобработка данных не понадобится — вы её уже сделали.\n",
    "\n",
    "Постройте модель с максимально большим значением *accuracy*. Чтобы сдать проект успешно, нужно довести долю правильных ответов по крайней мере до 0.75. Проверьте *accuracy* на тестовой выборке самостоятельно."
   ]
  },
  {
   "cell_type": "code",
   "execution_count": 1,
   "metadata": {},
   "outputs": [],
   "source": [
    "import pandas as pd\n",
    "from sklearn.tree import DecisionTreeClassifier\n",
    "from sklearn.ensemble import RandomForestClassifier\n",
    "from sklearn.linear_model import LogisticRegression\n",
    "from sklearn.model_selection import train_test_split\n",
    "from sklearn.metrics import accuracy_score\n",
    "from sklearn.metrics import classification_report\n",
    "from sklearn.metrics import accuracy_score\n",
    "from sklearn.metrics import precision_score\n",
    "from sklearn.metrics import recall_score\n",
    "from sklearn.metrics import f1_score\n",
    "import numpy as np\n",
    "from sklearn.dummy import DummyClassifier\n",
    "import warnings\n",
    "warnings.filterwarnings('ignore')"
   ]
  },
  {
   "cell_type": "markdown",
   "metadata": {},
   "source": [
    "## Открытие и изучение файла:"
   ]
  },
  {
   "cell_type": "code",
   "execution_count": 2,
   "metadata": {},
   "outputs": [],
   "source": [
    "data = pd.read_csv('D://Education//Module_5 (!Project)//users_behavior.csv')"
   ]
  },
  {
   "cell_type": "markdown",
   "metadata": {},
   "source": [
    "### **Основная информация датафрейма (метода info()):**"
   ]
  },
  {
   "cell_type": "code",
   "execution_count": 3,
   "metadata": {},
   "outputs": [
    {
     "name": "stdout",
     "output_type": "stream",
     "text": [
      "<class 'pandas.core.frame.DataFrame'>\n",
      "RangeIndex: 3214 entries, 0 to 3213\n",
      "Data columns (total 5 columns):\n",
      " #   Column    Non-Null Count  Dtype  \n",
      "---  ------    --------------  -----  \n",
      " 0   calls     3214 non-null   float64\n",
      " 1   minutes   3214 non-null   float64\n",
      " 2   messages  3214 non-null   float64\n",
      " 3   mb_used   3214 non-null   float64\n",
      " 4   is_ultra  3214 non-null   int64  \n",
      "dtypes: float64(4), int64(1)\n",
      "memory usage: 125.7 KB\n",
      "None\n"
     ]
    }
   ],
   "source": [
    "print(data.info())"
   ]
  },
  {
   "cell_type": "markdown",
   "metadata": {},
   "source": [
    "### **Первые 10 строк датафрейма:**"
   ]
  },
  {
   "cell_type": "code",
   "execution_count": 4,
   "metadata": {
    "scrolled": true
   },
   "outputs": [
    {
     "data": {
      "text/html": [
       "<div>\n",
       "<style scoped>\n",
       "    .dataframe tbody tr th:only-of-type {\n",
       "        vertical-align: middle;\n",
       "    }\n",
       "\n",
       "    .dataframe tbody tr th {\n",
       "        vertical-align: top;\n",
       "    }\n",
       "\n",
       "    .dataframe thead th {\n",
       "        text-align: right;\n",
       "    }\n",
       "</style>\n",
       "<table border=\"1\" class=\"dataframe\">\n",
       "  <thead>\n",
       "    <tr style=\"text-align: right;\">\n",
       "      <th></th>\n",
       "      <th>calls</th>\n",
       "      <th>minutes</th>\n",
       "      <th>messages</th>\n",
       "      <th>mb_used</th>\n",
       "      <th>is_ultra</th>\n",
       "    </tr>\n",
       "  </thead>\n",
       "  <tbody>\n",
       "    <tr>\n",
       "      <th>0</th>\n",
       "      <td>40.0</td>\n",
       "      <td>311.90</td>\n",
       "      <td>83.0</td>\n",
       "      <td>19915.42</td>\n",
       "      <td>0</td>\n",
       "    </tr>\n",
       "    <tr>\n",
       "      <th>1</th>\n",
       "      <td>85.0</td>\n",
       "      <td>516.75</td>\n",
       "      <td>56.0</td>\n",
       "      <td>22696.96</td>\n",
       "      <td>0</td>\n",
       "    </tr>\n",
       "    <tr>\n",
       "      <th>2</th>\n",
       "      <td>77.0</td>\n",
       "      <td>467.66</td>\n",
       "      <td>86.0</td>\n",
       "      <td>21060.45</td>\n",
       "      <td>0</td>\n",
       "    </tr>\n",
       "    <tr>\n",
       "      <th>3</th>\n",
       "      <td>106.0</td>\n",
       "      <td>745.53</td>\n",
       "      <td>81.0</td>\n",
       "      <td>8437.39</td>\n",
       "      <td>1</td>\n",
       "    </tr>\n",
       "    <tr>\n",
       "      <th>4</th>\n",
       "      <td>66.0</td>\n",
       "      <td>418.74</td>\n",
       "      <td>1.0</td>\n",
       "      <td>14502.75</td>\n",
       "      <td>0</td>\n",
       "    </tr>\n",
       "    <tr>\n",
       "      <th>5</th>\n",
       "      <td>58.0</td>\n",
       "      <td>344.56</td>\n",
       "      <td>21.0</td>\n",
       "      <td>15823.37</td>\n",
       "      <td>0</td>\n",
       "    </tr>\n",
       "    <tr>\n",
       "      <th>6</th>\n",
       "      <td>57.0</td>\n",
       "      <td>431.64</td>\n",
       "      <td>20.0</td>\n",
       "      <td>3738.90</td>\n",
       "      <td>1</td>\n",
       "    </tr>\n",
       "    <tr>\n",
       "      <th>7</th>\n",
       "      <td>15.0</td>\n",
       "      <td>132.40</td>\n",
       "      <td>6.0</td>\n",
       "      <td>21911.60</td>\n",
       "      <td>0</td>\n",
       "    </tr>\n",
       "    <tr>\n",
       "      <th>8</th>\n",
       "      <td>7.0</td>\n",
       "      <td>43.39</td>\n",
       "      <td>3.0</td>\n",
       "      <td>2538.67</td>\n",
       "      <td>1</td>\n",
       "    </tr>\n",
       "    <tr>\n",
       "      <th>9</th>\n",
       "      <td>90.0</td>\n",
       "      <td>665.41</td>\n",
       "      <td>38.0</td>\n",
       "      <td>17358.61</td>\n",
       "      <td>0</td>\n",
       "    </tr>\n",
       "  </tbody>\n",
       "</table>\n",
       "</div>"
      ],
      "text/plain": [
       "   calls  minutes  messages   mb_used  is_ultra\n",
       "0   40.0   311.90      83.0  19915.42         0\n",
       "1   85.0   516.75      56.0  22696.96         0\n",
       "2   77.0   467.66      86.0  21060.45         0\n",
       "3  106.0   745.53      81.0   8437.39         1\n",
       "4   66.0   418.74       1.0  14502.75         0\n",
       "5   58.0   344.56      21.0  15823.37         0\n",
       "6   57.0   431.64      20.0   3738.90         1\n",
       "7   15.0   132.40       6.0  21911.60         0\n",
       "8    7.0    43.39       3.0   2538.67         1\n",
       "9   90.0   665.41      38.0  17358.61         0"
      ]
     },
     "metadata": {},
     "output_type": "display_data"
    }
   ],
   "source": [
    "display(data.head(10))"
   ]
  },
  {
   "cell_type": "markdown",
   "metadata": {},
   "source": [
    "### **Первичное описание имеющихся данных:**"
   ]
  },
  {
   "cell_type": "markdown",
   "metadata": {},
   "source": [
    "**сalls** — количество звонков,  \n",
    "**minutes** — суммарная длительность звонков в минутах,  \n",
    "**messages** — количество sms-сообщений,  \n",
    "**mb_used** — израсходованный интернет-трафик в Мб,  \n",
    "**is_ultra** — каким тарифом пользовался в течение месяца («Ультра» — 1, «Смарт» — 0).  "
   ]
  },
  {
   "cell_type": "markdown",
   "metadata": {},
   "source": [
    "### **Проверка на наличие пропусков данных и дубликотов в столбцах:**"
   ]
  },
  {
   "cell_type": "code",
   "execution_count": 5,
   "metadata": {},
   "outputs": [
    {
     "name": "stdout",
     "output_type": "stream",
     "text": [
      "calls       0\n",
      "minutes     0\n",
      "messages    0\n",
      "mb_used     0\n",
      "is_ultra    0\n",
      "dtype: int64\n"
     ]
    }
   ],
   "source": [
    "print(data.isna().sum())"
   ]
  },
  {
   "cell_type": "code",
   "execution_count": 6,
   "metadata": {},
   "outputs": [
    {
     "name": "stdout",
     "output_type": "stream",
     "text": [
      "0\n"
     ]
    }
   ],
   "source": [
    "print(data.duplicated().sum())"
   ]
  },
  {
   "cell_type": "markdown",
   "metadata": {},
   "source": [
    "## Разбивка данных на выборки:"
   ]
  },
  {
   "cell_type": "markdown",
   "metadata": {},
   "source": [
    "### **Деление датафрейма:**"
   ]
  },
  {
   "cell_type": "markdown",
   "metadata": {},
   "source": [
    "Разделим выборку в соответствии с долями:\n",
    "- 60% - тренировочная,\n",
    "- 20% - валидационная,\n",
    "- 20% - тестировочная. "
   ]
  },
  {
   "cell_type": "code",
   "execution_count": 7,
   "metadata": {},
   "outputs": [],
   "source": [
    "data_train, data_temp = train_test_split(data, test_size=0.40, random_state=12345)\n",
    "data_valid, data_test = train_test_split(data_temp, test_size=0.50, random_state=12345)"
   ]
  },
  {
   "cell_type": "code",
   "execution_count": 8,
   "metadata": {
    "scrolled": true
   },
   "outputs": [
    {
     "name": "stdout",
     "output_type": "stream",
     "text": [
      "Тренеровочная: 1928\n",
      "Валидационная: 643\n",
      "Тестовая: 643\n"
     ]
    }
   ],
   "source": [
    "print('Тренеровочная:', data_train.shape[0])\n",
    "print('Валидационная:', data_valid.shape[0])\n",
    "print('Тестовая:', data_test.shape[0])"
   ]
  },
  {
   "cell_type": "markdown",
   "metadata": {},
   "source": [
    "### **Выделение признаков:**"
   ]
  },
  {
   "cell_type": "markdown",
   "metadata": {},
   "source": [
    "Выделим признаки и целевые признаки для каждого датафрейма:"
   ]
  },
  {
   "cell_type": "code",
   "execution_count": 9,
   "metadata": {},
   "outputs": [],
   "source": [
    "features_train = data_train.drop(['is_ultra'], axis=1)\n",
    "target_train = data_train['is_ultra']\n",
    "\n",
    "features_valid = data_valid.drop(['is_ultra'], axis=1)\n",
    "target_valid = data_valid['is_ultra']\n",
    "\n",
    "features_test = data_test.drop(['is_ultra'], axis=1)\n",
    "target_test = data_test['is_ultra']"
   ]
  },
  {
   "cell_type": "markdown",
   "metadata": {},
   "source": [
    "Данные разделены по принципу 60/20/20:  \n",
    "- для обучения модели (data_train),\n",
    "- для проверки модели (data_valid),\n",
    "- для оценочного теста модели (data_test)."
   ]
  },
  {
   "cell_type": "markdown",
   "metadata": {},
   "source": [
    "## Исследование модели:"
   ]
  },
  {
   "cell_type": "markdown",
   "metadata": {},
   "source": [
    "В данном проекте решается задача классификации, следовательно, использоваться будут следующие модели:\n",
    "- DecisionTreeClassifier (решающее дерево),\n",
    "- RandomForestClassifier (случайный лес),\n",
    "- LogisticRegression (логистическая регрессия)."
   ]
  },
  {
   "cell_type": "markdown",
   "metadata": {},
   "source": [
    "### **Решающее дерево:**"
   ]
  },
  {
   "cell_type": "code",
   "execution_count": 10,
   "metadata": {
    "scrolled": false
   },
   "outputs": [
    {
     "name": "stdout",
     "output_type": "stream",
     "text": [
      "Лучшая глубина дерева: 3\n",
      "Лучшая точность модели: 0.7853810264385692\n"
     ]
    }
   ],
   "source": [
    "best_depth = 0\n",
    "best_result = 0\n",
    "for depth in range(1, 51):\n",
    "    model = DecisionTreeClassifier(random_state=12345, max_depth=depth)\n",
    "    model.fit(features_train, target_train)\n",
    "    predictions_valid = model.predict(features_valid)\n",
    "    result = accuracy_score(target_valid, predictions_valid)\n",
    "    if result > best_result:\n",
    "        best_depth = depth\n",
    "        best_result = result\n",
    "\n",
    "print('Лучшая глубина дерева:', best_depth)\n",
    "print('Лучшая точность модели:', best_result)"
   ]
  },
  {
   "cell_type": "markdown",
   "metadata": {},
   "source": [
    "Наилучший результат при глубине дерева \"3\":"
   ]
  },
  {
   "cell_type": "markdown",
   "metadata": {},
   "source": [
    "**Исследуем изменение результатов при смене гиперпараметров:**"
   ]
  },
  {
   "cell_type": "markdown",
   "metadata": {},
   "source": [
    "*Изменим критерий с 'gini' на 'entropy':*"
   ]
  },
  {
   "cell_type": "code",
   "execution_count": 11,
   "metadata": {
    "scrolled": true
   },
   "outputs": [
    {
     "name": "stdout",
     "output_type": "stream",
     "text": [
      "Точность: 0.7853810264385692\n"
     ]
    }
   ],
   "source": [
    "model = DecisionTreeClassifier(random_state=12345, max_depth=3, criterion='entropy')\n",
    "model.fit(features_train, target_train)\n",
    "predictions_valid = model.predict(features_valid)\n",
    "result = accuracy_score(target_valid, predictions_valid)\n",
    "print('Точность:', result)"
   ]
  },
  {
   "cell_type": "markdown",
   "metadata": {},
   "source": [
    "Точность при изменении параметра не изменилась."
   ]
  },
  {
   "cell_type": "markdown",
   "metadata": {},
   "source": [
    "*Изменим параметр 'splitter' с 'best' на 'random':*"
   ]
  },
  {
   "cell_type": "code",
   "execution_count": 12,
   "metadata": {},
   "outputs": [
    {
     "name": "stdout",
     "output_type": "stream",
     "text": [
      "Точность: 0.7387247278382582\n"
     ]
    }
   ],
   "source": [
    "model = DecisionTreeClassifier(random_state=12345, max_depth=3, splitter='random')\n",
    "model.fit(features_train, target_train)\n",
    "predictions_valid = model.predict(features_valid)\n",
    "result = accuracy_score(target_valid, predictions_valid)\n",
    "print('Точность:', result)"
   ]
  },
  {
   "cell_type": "markdown",
   "metadata": {},
   "source": [
    "Точность при изменении параметра уменьшилась."
   ]
  },
  {
   "cell_type": "markdown",
   "metadata": {},
   "source": [
    "*Изменение остальных гиперпараметров не привело к улучшению точности.*"
   ]
  },
  {
   "cell_type": "markdown",
   "metadata": {},
   "source": [
    "**Таким образом, наилучший результат показывает решающее дерево с глубиной \"3\".**"
   ]
  },
  {
   "cell_type": "code",
   "execution_count": 13,
   "metadata": {
    "scrolled": true
   },
   "outputs": [
    {
     "name": "stdout",
     "output_type": "stream",
     "text": [
      "Точность: 0.7853810264385692\n"
     ]
    }
   ],
   "source": [
    "best_tree_model = DecisionTreeClassifier(random_state=12345, max_depth=3)\n",
    "best_tree_model.fit(features_train, target_train)\n",
    "predictions_valid = best_tree_model.predict(features_valid)\n",
    "tree_result = accuracy_score(target_valid, predictions_valid)\n",
    "print('Точность:', tree_result)"
   ]
  },
  {
   "cell_type": "markdown",
   "metadata": {},
   "source": [
    "### **Случайный лес:**"
   ]
  },
  {
   "cell_type": "code",
   "execution_count": 14,
   "metadata": {
    "scrolled": true
   },
   "outputs": [
    {
     "name": "stdout",
     "output_type": "stream",
     "text": [
      "Лучшее кол-во деревьев: 23\n",
      "Лучшая точность модели: 0.7947122861586314\n"
     ]
    }
   ],
   "source": [
    "best_estimators = 0\n",
    "best_result = 0\n",
    "\n",
    "for est in range(1, 51):\n",
    "    model = RandomForestClassifier(random_state=12345, n_estimators=est)\n",
    "    model.fit(features_train, target_train)\n",
    "    predictions_valid = model.predict(features_valid)\n",
    "    result = accuracy_score(target_valid, predictions_valid)\n",
    "    if result > best_result:\n",
    "        best_estimators = est\n",
    "        best_result = result\n",
    "\n",
    "print('Лучшее кол-во деревьев:', best_estimators)\n",
    "print('Лучшая точность модели:', best_result)"
   ]
  },
  {
   "cell_type": "markdown",
   "metadata": {},
   "source": [
    "Наилучший результат при кол-ве деревьев \"23\":"
   ]
  },
  {
   "cell_type": "markdown",
   "metadata": {},
   "source": [
    "**Исследуем изменение результатов при смене гиперпараметров:**"
   ]
  },
  {
   "cell_type": "markdown",
   "metadata": {},
   "source": [
    "*Изменим критерий с 'gini' на 'entropy':*"
   ]
  },
  {
   "cell_type": "code",
   "execution_count": 15,
   "metadata": {},
   "outputs": [
    {
     "name": "stdout",
     "output_type": "stream",
     "text": [
      "Точность: 0.7838258164852255\n"
     ]
    }
   ],
   "source": [
    "model = RandomForestClassifier(random_state=12345, n_estimators=23, criterion='entropy')\n",
    "model.fit(features_train, target_train)\n",
    "predictions_valid = model.predict(features_valid)\n",
    "forest_result = accuracy_score(target_valid, predictions_valid)\n",
    "print('Точность:', forest_result)"
   ]
  },
  {
   "cell_type": "markdown",
   "metadata": {},
   "source": [
    "Точность при изменении параметра уменьшилась."
   ]
  },
  {
   "cell_type": "markdown",
   "metadata": {},
   "source": [
    "*Изменим параметр 'warm_start' с 'False' на 'True':*"
   ]
  },
  {
   "cell_type": "code",
   "execution_count": 16,
   "metadata": {
    "scrolled": true
   },
   "outputs": [
    {
     "name": "stdout",
     "output_type": "stream",
     "text": [
      "Точность: 0.7947122861586314\n"
     ]
    }
   ],
   "source": [
    "model = RandomForestClassifier(random_state=12345, n_estimators=23, warm_start='True')\n",
    "model.fit(features_train, target_train)\n",
    "predictions_valid = model.predict(features_valid)\n",
    "forest_result = accuracy_score(target_valid, predictions_valid)\n",
    "print('Точность:', forest_result)"
   ]
  },
  {
   "cell_type": "markdown",
   "metadata": {},
   "source": [
    "Точность при изменении параметра не изменилась."
   ]
  },
  {
   "cell_type": "markdown",
   "metadata": {},
   "source": [
    "*Изменим параметр 'bootstrap' с 'True' на 'False':*"
   ]
  },
  {
   "cell_type": "code",
   "execution_count": 17,
   "metadata": {
    "scrolled": true
   },
   "outputs": [
    {
     "name": "stdout",
     "output_type": "stream",
     "text": [
      "Точность: 0.7947122861586314\n"
     ]
    }
   ],
   "source": [
    "model = RandomForestClassifier(random_state=12345, n_estimators=23, bootstrap='False')\n",
    "model.fit(features_train, target_train)\n",
    "predictions_valid = model.predict(features_valid)\n",
    "forest_result = accuracy_score(target_valid, predictions_valid)\n",
    "print('Точность:', forest_result)"
   ]
  },
  {
   "cell_type": "markdown",
   "metadata": {},
   "source": [
    "Точность при изменении параметра не изменилась."
   ]
  },
  {
   "cell_type": "markdown",
   "metadata": {},
   "source": [
    "*Изменение остальных гиперпараметров не привело к улучшению точности.*"
   ]
  },
  {
   "cell_type": "markdown",
   "metadata": {},
   "source": [
    "**Таким образом, наилучший результат показывает случайный лес с кол-вом деревьев \"23\".**"
   ]
  },
  {
   "cell_type": "code",
   "execution_count": 18,
   "metadata": {},
   "outputs": [
    {
     "name": "stdout",
     "output_type": "stream",
     "text": [
      "Точность: 0.7947122861586314\n"
     ]
    }
   ],
   "source": [
    "best_forest_model = RandomForestClassifier(random_state=12345, n_estimators=23)\n",
    "best_forest_model.fit(features_train, target_train)\n",
    "predictions_valid = best_forest_model.predict(features_valid)\n",
    "forest_result = accuracy_score(target_valid, predictions_valid)\n",
    "print('Точность:', forest_result)"
   ]
  },
  {
   "cell_type": "markdown",
   "metadata": {},
   "source": [
    "### **Логистическая регрессия:**"
   ]
  },
  {
   "cell_type": "code",
   "execution_count": 19,
   "metadata": {},
   "outputs": [
    {
     "name": "stdout",
     "output_type": "stream",
     "text": [
      "Лучшее кол-во итерраций: 39\n",
      "Лучшая точность модели: 0.7107309486780715\n"
     ]
    }
   ],
   "source": [
    "best_iter = 0\n",
    "best_result = 0\n",
    "\n",
    "for num_iter in range(1, 1001):\n",
    "    model = LogisticRegression(random_state=12345, solver='lbfgs', max_iter=num_iter)\n",
    "    model.fit(features_train, target_train)\n",
    "    predictions_valid = model.predict(features_valid)\n",
    "    result = accuracy_score(target_valid, predictions_valid)\n",
    "    if result > best_result:\n",
    "        best_iter = num_iter\n",
    "        best_result = result\n",
    "\n",
    "print('Лучшее кол-во итерраций:', best_iter)\n",
    "print('Лучшая точность модели:', best_result) "
   ]
  },
  {
   "cell_type": "markdown",
   "metadata": {},
   "source": [
    "**Исследуем изменение результатов при смене гиперпараметров:**"
   ]
  },
  {
   "cell_type": "markdown",
   "metadata": {},
   "source": [
    "*Изменим параметр 'solver':*"
   ]
  },
  {
   "cell_type": "code",
   "execution_count": 20,
   "metadata": {
    "scrolled": true
   },
   "outputs": [
    {
     "name": "stdout",
     "output_type": "stream",
     "text": [
      "Точность: 0.7573872472783826\n"
     ]
    }
   ],
   "source": [
    "model = LogisticRegression(random_state=12345, solver='newton-cg', max_iter=39)\n",
    "model.fit(features_train, target_train)\n",
    "predictions_valid = model.predict(features_valid)\n",
    "result = accuracy_score(target_valid, predictions_valid)\n",
    "print('Точность:', result)"
   ]
  },
  {
   "cell_type": "code",
   "execution_count": 21,
   "metadata": {
    "scrolled": true
   },
   "outputs": [
    {
     "name": "stdout",
     "output_type": "stream",
     "text": [
      "Точность: 0.7076205287713841\n"
     ]
    }
   ],
   "source": [
    "model = LogisticRegression(random_state=12345, solver='liblinear', max_iter=39)\n",
    "model.fit(features_train, target_train)\n",
    "predictions_valid = model.predict(features_valid)\n",
    "result = accuracy_score(target_valid, predictions_valid)\n",
    "print('Точность:', result)"
   ]
  },
  {
   "cell_type": "code",
   "execution_count": 22,
   "metadata": {
    "scrolled": true
   },
   "outputs": [
    {
     "name": "stdout",
     "output_type": "stream",
     "text": [
      "Точность: 0.7060653188180405\n"
     ]
    }
   ],
   "source": [
    "model = LogisticRegression(random_state=12345, solver='sag', max_iter=39)\n",
    "model.fit(features_train, target_train)\n",
    "predictions_valid = model.predict(features_valid)\n",
    "result = accuracy_score(target_valid, predictions_valid)\n",
    "print('Точность:', result)"
   ]
  },
  {
   "cell_type": "code",
   "execution_count": 23,
   "metadata": {
    "scrolled": true
   },
   "outputs": [
    {
     "name": "stdout",
     "output_type": "stream",
     "text": [
      "Точность: 0.7060653188180405\n"
     ]
    }
   ],
   "source": [
    "model = LogisticRegression(random_state=12345, solver='saga', max_iter=39)\n",
    "model.fit(features_train, target_train)\n",
    "predictions_valid = model.predict(features_valid)\n",
    "result = accuracy_score(target_valid, predictions_valid)\n",
    "print('Точность:', result)"
   ]
  },
  {
   "cell_type": "markdown",
   "metadata": {},
   "source": [
    "Лучший показатель точности при параметре 'solver' = 'newton-cg'"
   ]
  },
  {
   "cell_type": "markdown",
   "metadata": {},
   "source": [
    "*Изменение остальных гиперпараметров не привело к улучшению точности.*"
   ]
  },
  {
   "cell_type": "markdown",
   "metadata": {},
   "source": [
    "**Таким образом, наилучший результат показывает логистическая регрессия с 39 итерациями и параметром solver = 'newton-cg'**"
   ]
  },
  {
   "cell_type": "code",
   "execution_count": 24,
   "metadata": {
    "scrolled": false
   },
   "outputs": [
    {
     "name": "stdout",
     "output_type": "stream",
     "text": [
      "Точность: 0.7107309486780715\n"
     ]
    }
   ],
   "source": [
    "best_log_regres_model = LogisticRegression(random_state=12345, solver='lbfgs', max_iter=39)\n",
    "best_log_regres_model.fit(features_train, target_train)\n",
    "predictions_valid = best_log_regres_model.predict(features_valid)\n",
    "log_regres_result = accuracy_score(target_valid, predictions_valid)\n",
    "print('Точность:', log_regres_result)"
   ]
  },
  {
   "cell_type": "markdown",
   "metadata": {},
   "source": [
    "**В результате проведенного анализа установлено:**\n",
    "- Наилучшая точность модели решающего дерева равна 0.7853810264385692 при глубине: 3.\n",
    "- Наилучшая точность модели случайного леса равна 0.7947122861586314 при кол-ве деревьев: 23.\n",
    "- Наилучшая точность модели логистической регрессии равна 0.7573872472783826 при параметре solver='newton-cg' и кол-ве итераций: 39.\n",
    "  \n",
    "**В данном исследовании лучшей моделью является модель случайного леса.**"
   ]
  },
  {
   "cell_type": "markdown",
   "metadata": {},
   "source": [
    "## Проверка модели на тестовой выборке:"
   ]
  },
  {
   "cell_type": "markdown",
   "metadata": {},
   "source": [
    "Для оценки полученных моделей проверим их точность с использование тестовой выборки:"
   ]
  },
  {
   "cell_type": "markdown",
   "metadata": {},
   "source": [
    "**Для решающего дерева:**"
   ]
  },
  {
   "cell_type": "code",
   "execution_count": 25,
   "metadata": {
    "scrolled": true
   },
   "outputs": [
    {
     "name": "stdout",
     "output_type": "stream",
     "text": [
      "Точность решающего дерева: 0.7791601866251944\n"
     ]
    }
   ],
   "source": [
    "tree_test_predictions = best_tree_model.predict(features_test)\n",
    "result = accuracy_score(target_test, tree_test_predictions)\n",
    "print('Точность решающего дерева:', result)"
   ]
  },
  {
   "cell_type": "markdown",
   "metadata": {},
   "source": [
    "Точность решающего дерева:\n",
    "- на валидационной выборке: 0.7853810264385692\n",
    "- на тестовой выборке: 0.7791601866251944\n",
    "- отклонение: 0.0062208398133748"
   ]
  },
  {
   "cell_type": "markdown",
   "metadata": {},
   "source": [
    "**Для случайного леса:**"
   ]
  },
  {
   "cell_type": "code",
   "execution_count": 26,
   "metadata": {
    "scrolled": true
   },
   "outputs": [
    {
     "name": "stdout",
     "output_type": "stream",
     "text": [
      "Точность случайного леса: 0.7807153965785381\n"
     ]
    }
   ],
   "source": [
    "forest_test_predictions = best_forest_model.predict(features_test)\n",
    "result = accuracy_score(target_test, forest_test_predictions)\n",
    "print('Точность случайного леса:', result)"
   ]
  },
  {
   "cell_type": "markdown",
   "metadata": {},
   "source": [
    "Точность случайного леса:\n",
    "- на валидационной выборке: 0.7947122861586314\n",
    "- на тестовой выборке: 0.7807153965785381\n",
    "- отклонение: 0.0139968895800933"
   ]
  },
  {
   "cell_type": "markdown",
   "metadata": {},
   "source": [
    "**Для логистической регрессии:**"
   ]
  },
  {
   "cell_type": "code",
   "execution_count": 27,
   "metadata": {
    "scrolled": false
   },
   "outputs": [
    {
     "name": "stdout",
     "output_type": "stream",
     "text": [
      "Точность случайного леса: 0.6842923794712286\n"
     ]
    }
   ],
   "source": [
    "log_regres_test_predictions = best_log_regres_model.predict(features_test)\n",
    "result = accuracy_score(target_test, log_regres_test_predictions)\n",
    "print('Точность случайного леса:', result)"
   ]
  },
  {
   "cell_type": "markdown",
   "metadata": {},
   "source": [
    "Точность логистической регрессии:\n",
    "- на валидационной выборке: 0.7573872472783826\n",
    "- на тестовой выборке: 0.6842923794712286\n",
    "- отклонение: 0.073094867807154"
   ]
  },
  {
   "cell_type": "markdown",
   "metadata": {},
   "source": [
    "Лучший показатель точности у случайного леса.  \n",
    "При этом, наименьшее отклонение значений результатов точности между валидационной и тестовой выборками имеет модель решающего дерева, что свидетельствует о минимальной переобученности модели.\n",
    "Наихудший результат показала модель логистической регрессии."
   ]
  },
  {
   "cell_type": "markdown",
   "metadata": {},
   "source": [
    "Так как гиперпараметры подобраны - валидационная выборка более не нужна. Объединим тренировочную (data_train) и валидационную (data_valid) выборки, с целью обучения модели на большей выборке.\n"
   ]
  },
  {
   "cell_type": "code",
   "execution_count": 28,
   "metadata": {
    "scrolled": true
   },
   "outputs": [],
   "source": [
    "data_merge = pd.concat([data_train,data_valid], axis=0)"
   ]
  },
  {
   "cell_type": "code",
   "execution_count": 29,
   "metadata": {},
   "outputs": [
    {
     "data": {
      "text/html": [
       "<div>\n",
       "<style scoped>\n",
       "    .dataframe tbody tr th:only-of-type {\n",
       "        vertical-align: middle;\n",
       "    }\n",
       "\n",
       "    .dataframe tbody tr th {\n",
       "        vertical-align: top;\n",
       "    }\n",
       "\n",
       "    .dataframe thead th {\n",
       "        text-align: right;\n",
       "    }\n",
       "</style>\n",
       "<table border=\"1\" class=\"dataframe\">\n",
       "  <thead>\n",
       "    <tr style=\"text-align: right;\">\n",
       "      <th></th>\n",
       "      <th>calls</th>\n",
       "      <th>minutes</th>\n",
       "      <th>messages</th>\n",
       "      <th>mb_used</th>\n",
       "      <th>is_ultra</th>\n",
       "    </tr>\n",
       "  </thead>\n",
       "  <tbody>\n",
       "    <tr>\n",
       "      <th>3027</th>\n",
       "      <td>60.0</td>\n",
       "      <td>431.56</td>\n",
       "      <td>26.0</td>\n",
       "      <td>14751.26</td>\n",
       "      <td>0</td>\n",
       "    </tr>\n",
       "    <tr>\n",
       "      <th>434</th>\n",
       "      <td>33.0</td>\n",
       "      <td>265.17</td>\n",
       "      <td>59.0</td>\n",
       "      <td>17398.02</td>\n",
       "      <td>0</td>\n",
       "    </tr>\n",
       "    <tr>\n",
       "      <th>1226</th>\n",
       "      <td>52.0</td>\n",
       "      <td>341.83</td>\n",
       "      <td>68.0</td>\n",
       "      <td>15462.38</td>\n",
       "      <td>0</td>\n",
       "    </tr>\n",
       "    <tr>\n",
       "      <th>1054</th>\n",
       "      <td>42.0</td>\n",
       "      <td>226.18</td>\n",
       "      <td>21.0</td>\n",
       "      <td>13243.48</td>\n",
       "      <td>0</td>\n",
       "    </tr>\n",
       "    <tr>\n",
       "      <th>1842</th>\n",
       "      <td>30.0</td>\n",
       "      <td>198.42</td>\n",
       "      <td>0.0</td>\n",
       "      <td>8189.53</td>\n",
       "      <td>0</td>\n",
       "    </tr>\n",
       "  </tbody>\n",
       "</table>\n",
       "</div>"
      ],
      "text/plain": [
       "      calls  minutes  messages   mb_used  is_ultra\n",
       "3027   60.0   431.56      26.0  14751.26         0\n",
       "434    33.0   265.17      59.0  17398.02         0\n",
       "1226   52.0   341.83      68.0  15462.38         0\n",
       "1054   42.0   226.18      21.0  13243.48         0\n",
       "1842   30.0   198.42       0.0   8189.53         0"
      ]
     },
     "metadata": {},
     "output_type": "display_data"
    }
   ],
   "source": [
    "display(data_merge.head(5))"
   ]
  },
  {
   "cell_type": "markdown",
   "metadata": {},
   "source": [
    "Проведем тестирование модели на объединенной выборке (data_merge):"
   ]
  },
  {
   "cell_type": "code",
   "execution_count": 30,
   "metadata": {},
   "outputs": [],
   "source": [
    "features_merge = data_merge.drop(['is_ultra'], axis=1)\n",
    "target_merge = data_merge['is_ultra']"
   ]
  },
  {
   "cell_type": "code",
   "execution_count": 31,
   "metadata": {},
   "outputs": [
    {
     "name": "stdout",
     "output_type": "stream",
     "text": [
      "Точность: 0.8055987558320373\n"
     ]
    }
   ],
   "source": [
    "model = RandomForestClassifier(random_state=12345, n_estimators=23)\n",
    "model.fit(features_merge, target_merge)\n",
    "predictions_test = model.predict(features_test)\n",
    "result = accuracy_score(target_test, predictions_test)\n",
    "print('Точность:', result)"
   ]
  },
  {
   "cell_type": "markdown",
   "metadata": {},
   "source": [
    "Исходя из условий задачи, необходимо достигнуть уровня точности не менее 0,75.  \n",
    "Таким образом, для решения поставленной задачи допустимо использовать как модель решающего дерева, так и модель случайного леса (целесообразнее модель случайного леса)."
   ]
  },
  {
   "cell_type": "markdown",
   "metadata": {},
   "source": [
    "## Проверка модели на адекватность:"
   ]
  },
  {
   "cell_type": "code",
   "execution_count": 32,
   "metadata": {
    "scrolled": true
   },
   "outputs": [
    {
     "name": "stdout",
     "output_type": "stream",
     "text": [
      "Unique predicted labels:  [0]\n",
      "Test score:  0.6842923794712286\n"
     ]
    }
   ],
   "source": [
    "dummy = DummyClassifier(strategy='most_frequent').fit(features_merge, target_merge)\n",
    "dummy_pred = dummy.predict(features_test)\n",
    "\n",
    "# checking unique labels\n",
    "print('Unique predicted labels: ', (np.unique(dummy_pred)))\n",
    "\n",
    "# checking accuracy\n",
    "print('Test score: ', accuracy_score(target_test, dummy_pred))"
   ]
  },
  {
   "cell_type": "markdown",
   "metadata": {},
   "source": [
    "Полученная модель имеет \"среднее\" качество."
   ]
  }
 ],
 "metadata": {
  "ExecuteTimeLog": [
   {
    "duration": 1134,
    "start_time": "2023-01-10T12:28:33.494Z"
   },
   {
    "duration": 71,
    "start_time": "2023-01-10T12:28:35.473Z"
   },
   {
    "duration": 15,
    "start_time": "2023-01-10T12:28:38.751Z"
   },
   {
    "duration": 19,
    "start_time": "2023-01-10T12:28:42.915Z"
   },
   {
    "duration": 6,
    "start_time": "2023-01-10T12:30:06.967Z"
   },
   {
    "duration": 7,
    "start_time": "2023-01-10T12:30:54.679Z"
   },
   {
    "duration": 6,
    "start_time": "2023-01-10T15:15:43.916Z"
   },
   {
    "duration": 4,
    "start_time": "2023-01-10T15:16:37.245Z"
   },
   {
    "duration": 7,
    "start_time": "2023-01-10T15:21:02.325Z"
   },
   {
    "duration": 73,
    "start_time": "2023-01-10T15:32:29.081Z"
   },
   {
    "duration": 90,
    "start_time": "2023-01-10T15:32:36.173Z"
   },
   {
    "duration": 2,
    "start_time": "2023-01-10T15:33:07.508Z"
   },
   {
    "duration": 213,
    "start_time": "2023-01-10T15:33:10.981Z"
   },
   {
    "duration": 215,
    "start_time": "2023-01-10T15:35:17.426Z"
   },
   {
    "duration": 1058,
    "start_time": "2023-01-10T15:35:27.800Z"
   },
   {
    "duration": 28,
    "start_time": "2023-01-10T15:35:28.860Z"
   },
   {
    "duration": 11,
    "start_time": "2023-01-10T15:35:28.890Z"
   },
   {
    "duration": 20,
    "start_time": "2023-01-10T15:35:28.903Z"
   },
   {
    "duration": 9,
    "start_time": "2023-01-10T15:35:28.924Z"
   },
   {
    "duration": 12,
    "start_time": "2023-01-10T15:35:28.934Z"
   },
   {
    "duration": 7,
    "start_time": "2023-01-10T15:35:28.947Z"
   },
   {
    "duration": 8,
    "start_time": "2023-01-10T15:35:28.955Z"
   },
   {
    "duration": 8,
    "start_time": "2023-01-10T15:35:28.964Z"
   },
   {
    "duration": 217,
    "start_time": "2023-01-10T15:35:32.109Z"
   },
   {
    "duration": 987,
    "start_time": "2023-01-10T15:37:16.378Z"
   },
   {
    "duration": 28,
    "start_time": "2023-01-10T15:37:17.367Z"
   },
   {
    "duration": 13,
    "start_time": "2023-01-10T15:37:17.397Z"
   },
   {
    "duration": 22,
    "start_time": "2023-01-10T15:37:17.411Z"
   },
   {
    "duration": 5,
    "start_time": "2023-01-10T15:37:17.435Z"
   },
   {
    "duration": 10,
    "start_time": "2023-01-10T15:37:17.441Z"
   },
   {
    "duration": 10,
    "start_time": "2023-01-10T15:37:17.452Z"
   },
   {
    "duration": 6,
    "start_time": "2023-01-10T15:37:17.463Z"
   },
   {
    "duration": 9,
    "start_time": "2023-01-10T15:37:17.471Z"
   },
   {
    "duration": 453,
    "start_time": "2023-01-10T15:37:17.481Z"
   },
   {
    "duration": 1040,
    "start_time": "2023-01-10T15:39:34.047Z"
   },
   {
    "duration": 30,
    "start_time": "2023-01-10T15:39:35.089Z"
   },
   {
    "duration": 12,
    "start_time": "2023-01-10T15:39:35.120Z"
   },
   {
    "duration": 20,
    "start_time": "2023-01-10T15:39:35.134Z"
   },
   {
    "duration": 5,
    "start_time": "2023-01-10T15:39:35.155Z"
   },
   {
    "duration": 8,
    "start_time": "2023-01-10T15:39:35.161Z"
   },
   {
    "duration": 8,
    "start_time": "2023-01-10T15:39:35.170Z"
   },
   {
    "duration": 6,
    "start_time": "2023-01-10T15:39:35.179Z"
   },
   {
    "duration": 8,
    "start_time": "2023-01-10T15:39:35.187Z"
   },
   {
    "duration": 239,
    "start_time": "2023-01-10T15:39:35.196Z"
   },
   {
    "duration": 95,
    "start_time": "2023-01-10T15:39:35.436Z"
   },
   {
    "duration": 1112,
    "start_time": "2023-01-10T15:40:28.217Z"
   },
   {
    "duration": 29,
    "start_time": "2023-01-10T15:40:29.331Z"
   },
   {
    "duration": 14,
    "start_time": "2023-01-10T15:40:29.362Z"
   },
   {
    "duration": 32,
    "start_time": "2023-01-10T15:40:29.377Z"
   },
   {
    "duration": 24,
    "start_time": "2023-01-10T15:40:29.411Z"
   },
   {
    "duration": 13,
    "start_time": "2023-01-10T15:40:29.437Z"
   },
   {
    "duration": 23,
    "start_time": "2023-01-10T15:40:29.452Z"
   },
   {
    "duration": 4,
    "start_time": "2023-01-10T15:40:29.477Z"
   },
   {
    "duration": 30,
    "start_time": "2023-01-10T15:40:29.483Z"
   },
   {
    "duration": 466,
    "start_time": "2023-01-10T15:40:29.515Z"
   },
   {
    "duration": 462,
    "start_time": "2023-01-10T15:41:33.207Z"
   },
   {
    "duration": 419,
    "start_time": "2023-01-10T15:42:13.216Z"
   },
   {
    "duration": 11,
    "start_time": "2023-01-10T15:51:34.664Z"
   },
   {
    "duration": 17,
    "start_time": "2023-01-10T15:52:06.828Z"
   },
   {
    "duration": 13,
    "start_time": "2023-01-10T15:52:12.065Z"
   },
   {
    "duration": 16,
    "start_time": "2023-01-10T15:52:15.926Z"
   },
   {
    "duration": 12,
    "start_time": "2023-01-10T15:52:18.262Z"
   },
   {
    "duration": 11,
    "start_time": "2023-01-10T15:52:28.225Z"
   },
   {
    "duration": 10,
    "start_time": "2023-01-10T15:52:33.949Z"
   },
   {
    "duration": 10,
    "start_time": "2023-01-10T15:52:40.128Z"
   },
   {
    "duration": 1084,
    "start_time": "2023-01-10T15:54:50.087Z"
   },
   {
    "duration": 28,
    "start_time": "2023-01-10T15:54:51.173Z"
   },
   {
    "duration": 11,
    "start_time": "2023-01-10T15:54:51.203Z"
   },
   {
    "duration": 21,
    "start_time": "2023-01-10T15:54:51.216Z"
   },
   {
    "duration": 4,
    "start_time": "2023-01-10T15:54:51.239Z"
   },
   {
    "duration": 7,
    "start_time": "2023-01-10T15:54:51.245Z"
   },
   {
    "duration": 6,
    "start_time": "2023-01-10T15:54:51.253Z"
   },
   {
    "duration": 10,
    "start_time": "2023-01-10T15:54:51.260Z"
   },
   {
    "duration": 20,
    "start_time": "2023-01-10T15:54:51.271Z"
   },
   {
    "duration": 416,
    "start_time": "2023-01-10T15:54:51.292Z"
   },
   {
    "duration": 13,
    "start_time": "2023-01-10T15:54:53.605Z"
   },
   {
    "duration": 15,
    "start_time": "2023-01-10T15:55:07.933Z"
   },
   {
    "duration": 9,
    "start_time": "2023-01-10T15:55:24.327Z"
   },
   {
    "duration": 1054,
    "start_time": "2023-01-10T15:55:45.522Z"
   },
   {
    "duration": 30,
    "start_time": "2023-01-10T15:55:46.578Z"
   },
   {
    "duration": 13,
    "start_time": "2023-01-10T15:55:46.609Z"
   },
   {
    "duration": 20,
    "start_time": "2023-01-10T15:55:46.624Z"
   },
   {
    "duration": 5,
    "start_time": "2023-01-10T15:55:46.646Z"
   },
   {
    "duration": 10,
    "start_time": "2023-01-10T15:55:46.652Z"
   },
   {
    "duration": 10,
    "start_time": "2023-01-10T15:55:46.663Z"
   },
   {
    "duration": 12,
    "start_time": "2023-01-10T15:55:46.675Z"
   },
   {
    "duration": 12,
    "start_time": "2023-01-10T15:55:46.688Z"
   },
   {
    "duration": 440,
    "start_time": "2023-01-10T15:55:46.702Z"
   },
   {
    "duration": 10,
    "start_time": "2023-01-10T15:55:55.072Z"
   },
   {
    "duration": 9,
    "start_time": "2023-01-10T15:55:59.925Z"
   },
   {
    "duration": 9,
    "start_time": "2023-01-10T15:56:02.784Z"
   },
   {
    "duration": 11,
    "start_time": "2023-01-10T15:56:05.353Z"
   },
   {
    "duration": 10,
    "start_time": "2023-01-10T15:56:21.936Z"
   },
   {
    "duration": 487,
    "start_time": "2023-01-10T15:56:41.516Z"
   },
   {
    "duration": 1065,
    "start_time": "2023-01-10T15:56:54.790Z"
   },
   {
    "duration": 29,
    "start_time": "2023-01-10T15:56:55.857Z"
   },
   {
    "duration": 10,
    "start_time": "2023-01-10T15:56:55.888Z"
   },
   {
    "duration": 30,
    "start_time": "2023-01-10T15:56:55.899Z"
   },
   {
    "duration": 5,
    "start_time": "2023-01-10T15:56:55.931Z"
   },
   {
    "duration": 6,
    "start_time": "2023-01-10T15:56:55.937Z"
   },
   {
    "duration": 6,
    "start_time": "2023-01-10T15:56:55.945Z"
   },
   {
    "duration": 11,
    "start_time": "2023-01-10T15:56:55.952Z"
   },
   {
    "duration": 7,
    "start_time": "2023-01-10T15:56:55.965Z"
   },
   {
    "duration": 419,
    "start_time": "2023-01-10T15:56:55.973Z"
   },
   {
    "duration": 9,
    "start_time": "2023-01-10T15:56:56.393Z"
   },
   {
    "duration": 9,
    "start_time": "2023-01-10T15:56:56.412Z"
   },
   {
    "duration": 9,
    "start_time": "2023-01-10T15:57:15.825Z"
   },
   {
    "duration": 9,
    "start_time": "2023-01-10T15:57:22.982Z"
   },
   {
    "duration": 1054,
    "start_time": "2023-01-10T16:08:26.918Z"
   },
   {
    "duration": 28,
    "start_time": "2023-01-10T16:08:27.974Z"
   },
   {
    "duration": 12,
    "start_time": "2023-01-10T16:08:28.004Z"
   },
   {
    "duration": 18,
    "start_time": "2023-01-10T16:08:28.017Z"
   },
   {
    "duration": 7,
    "start_time": "2023-01-10T16:08:28.036Z"
   },
   {
    "duration": 7,
    "start_time": "2023-01-10T16:08:28.045Z"
   },
   {
    "duration": 8,
    "start_time": "2023-01-10T16:08:28.054Z"
   },
   {
    "duration": 5,
    "start_time": "2023-01-10T16:08:28.064Z"
   },
   {
    "duration": 8,
    "start_time": "2023-01-10T16:08:28.071Z"
   },
   {
    "duration": 413,
    "start_time": "2023-01-10T16:08:28.080Z"
   },
   {
    "duration": 9,
    "start_time": "2023-01-10T16:08:28.495Z"
   },
   {
    "duration": 9,
    "start_time": "2023-01-10T16:08:28.513Z"
   },
   {
    "duration": 1070,
    "start_time": "2023-01-10T16:08:55.999Z"
   },
   {
    "duration": 30,
    "start_time": "2023-01-10T16:08:57.071Z"
   },
   {
    "duration": 10,
    "start_time": "2023-01-10T16:08:57.103Z"
   },
   {
    "duration": 21,
    "start_time": "2023-01-10T16:08:57.115Z"
   },
   {
    "duration": 4,
    "start_time": "2023-01-10T16:08:57.138Z"
   },
   {
    "duration": 9,
    "start_time": "2023-01-10T16:08:57.143Z"
   },
   {
    "duration": 7,
    "start_time": "2023-01-10T16:08:57.153Z"
   },
   {
    "duration": 5,
    "start_time": "2023-01-10T16:08:57.161Z"
   },
   {
    "duration": 17,
    "start_time": "2023-01-10T16:08:57.168Z"
   },
   {
    "duration": 416,
    "start_time": "2023-01-10T16:08:57.187Z"
   },
   {
    "duration": 13,
    "start_time": "2023-01-10T16:08:57.604Z"
   },
   {
    "duration": 9,
    "start_time": "2023-01-10T16:08:57.618Z"
   },
   {
    "duration": 10,
    "start_time": "2023-01-10T16:09:17.821Z"
   },
   {
    "duration": 1065,
    "start_time": "2023-01-10T16:10:13.602Z"
   },
   {
    "duration": 29,
    "start_time": "2023-01-10T16:10:14.669Z"
   },
   {
    "duration": 13,
    "start_time": "2023-01-10T16:10:14.699Z"
   },
   {
    "duration": 18,
    "start_time": "2023-01-10T16:10:14.714Z"
   },
   {
    "duration": 4,
    "start_time": "2023-01-10T16:10:14.734Z"
   },
   {
    "duration": 8,
    "start_time": "2023-01-10T16:10:14.739Z"
   },
   {
    "duration": 9,
    "start_time": "2023-01-10T16:10:14.748Z"
   },
   {
    "duration": 5,
    "start_time": "2023-01-10T16:10:14.759Z"
   },
   {
    "duration": 11,
    "start_time": "2023-01-10T16:10:14.765Z"
   },
   {
    "duration": 431,
    "start_time": "2023-01-10T16:10:14.777Z"
   },
   {
    "duration": 10,
    "start_time": "2023-01-10T16:10:15.209Z"
   },
   {
    "duration": 10,
    "start_time": "2023-01-10T16:10:15.221Z"
   },
   {
    "duration": 1089,
    "start_time": "2023-01-10T16:14:07.188Z"
   },
   {
    "duration": 29,
    "start_time": "2023-01-10T16:14:08.279Z"
   },
   {
    "duration": 11,
    "start_time": "2023-01-10T16:14:08.309Z"
   },
   {
    "duration": 29,
    "start_time": "2023-01-10T16:14:08.321Z"
   },
   {
    "duration": 15,
    "start_time": "2023-01-10T16:14:08.352Z"
   },
   {
    "duration": 23,
    "start_time": "2023-01-10T16:14:08.369Z"
   },
   {
    "duration": 17,
    "start_time": "2023-01-10T16:14:08.394Z"
   },
   {
    "duration": 17,
    "start_time": "2023-01-10T16:14:08.412Z"
   },
   {
    "duration": 34,
    "start_time": "2023-01-10T16:14:08.431Z"
   },
   {
    "duration": 419,
    "start_time": "2023-01-10T16:14:08.466Z"
   },
   {
    "duration": 9,
    "start_time": "2023-01-10T16:14:10.955Z"
   },
   {
    "duration": 1103,
    "start_time": "2023-01-10T16:14:59.400Z"
   },
   {
    "duration": 29,
    "start_time": "2023-01-10T16:15:00.505Z"
   },
   {
    "duration": 12,
    "start_time": "2023-01-10T16:15:00.536Z"
   },
   {
    "duration": 28,
    "start_time": "2023-01-10T16:15:00.550Z"
   },
   {
    "duration": 37,
    "start_time": "2023-01-10T16:15:00.580Z"
   },
   {
    "duration": 56,
    "start_time": "2023-01-10T16:15:00.619Z"
   },
   {
    "duration": 34,
    "start_time": "2023-01-10T16:15:00.677Z"
   },
   {
    "duration": 52,
    "start_time": "2023-01-10T16:15:00.713Z"
   },
   {
    "duration": 37,
    "start_time": "2023-01-10T16:15:00.766Z"
   },
   {
    "duration": 459,
    "start_time": "2023-01-10T16:15:00.805Z"
   },
   {
    "duration": 9,
    "start_time": "2023-01-10T16:15:01.266Z"
   },
   {
    "duration": 10,
    "start_time": "2023-01-10T16:15:05.504Z"
   },
   {
    "duration": 1026,
    "start_time": "2023-01-10T16:16:07.352Z"
   },
   {
    "duration": 32,
    "start_time": "2023-01-10T16:16:08.380Z"
   },
   {
    "duration": 12,
    "start_time": "2023-01-10T16:16:08.413Z"
   },
   {
    "duration": 21,
    "start_time": "2023-01-10T16:16:08.427Z"
   },
   {
    "duration": 8,
    "start_time": "2023-01-10T16:16:08.450Z"
   },
   {
    "duration": 7,
    "start_time": "2023-01-10T16:16:08.459Z"
   },
   {
    "duration": 10,
    "start_time": "2023-01-10T16:16:08.467Z"
   },
   {
    "duration": 6,
    "start_time": "2023-01-10T16:16:08.478Z"
   },
   {
    "duration": 8,
    "start_time": "2023-01-10T16:16:08.485Z"
   },
   {
    "duration": 420,
    "start_time": "2023-01-10T16:16:08.494Z"
   },
   {
    "duration": 9,
    "start_time": "2023-01-10T16:16:08.916Z"
   },
   {
    "duration": 10,
    "start_time": "2023-01-10T16:16:11.427Z"
   },
   {
    "duration": 9,
    "start_time": "2023-01-10T16:16:27.540Z"
   },
   {
    "duration": 8,
    "start_time": "2023-01-10T16:18:00.067Z"
   },
   {
    "duration": 1046,
    "start_time": "2023-01-10T16:18:49.726Z"
   },
   {
    "duration": 29,
    "start_time": "2023-01-10T16:18:50.774Z"
   },
   {
    "duration": 12,
    "start_time": "2023-01-10T16:18:50.804Z"
   },
   {
    "duration": 20,
    "start_time": "2023-01-10T16:18:50.817Z"
   },
   {
    "duration": 4,
    "start_time": "2023-01-10T16:18:50.840Z"
   },
   {
    "duration": 10,
    "start_time": "2023-01-10T16:18:50.846Z"
   },
   {
    "duration": 11,
    "start_time": "2023-01-10T16:18:50.858Z"
   },
   {
    "duration": 7,
    "start_time": "2023-01-10T16:18:50.871Z"
   },
   {
    "duration": 7,
    "start_time": "2023-01-10T16:18:50.879Z"
   },
   {
    "duration": 415,
    "start_time": "2023-01-10T16:18:50.887Z"
   },
   {
    "duration": 14,
    "start_time": "2023-01-10T16:18:51.304Z"
   },
   {
    "duration": 10,
    "start_time": "2023-01-10T16:18:51.320Z"
   },
   {
    "duration": 16,
    "start_time": "2023-01-10T16:18:51.332Z"
   },
   {
    "duration": 10,
    "start_time": "2023-01-10T16:21:17.802Z"
   },
   {
    "duration": 4353,
    "start_time": "2023-01-10T16:25:49.724Z"
   },
   {
    "duration": 18171,
    "start_time": "2023-01-10T16:26:35.642Z"
   },
   {
    "duration": 4470,
    "start_time": "2023-01-10T16:27:31.349Z"
   },
   {
    "duration": 4540,
    "start_time": "2023-01-10T16:28:03.222Z"
   },
   {
    "duration": 4365,
    "start_time": "2023-01-10T16:29:47.620Z"
   },
   {
    "duration": 4373,
    "start_time": "2023-01-10T16:30:28.681Z"
   },
   {
    "duration": 4396,
    "start_time": "2023-01-10T16:31:28.897Z"
   },
   {
    "duration": 4905,
    "start_time": "2023-01-10T16:39:35.300Z"
   },
   {
    "duration": 4986,
    "start_time": "2023-01-10T16:39:51.932Z"
   },
   {
    "duration": 104,
    "start_time": "2023-01-10T16:42:06.348Z"
   },
   {
    "duration": 1066,
    "start_time": "2023-01-10T16:43:15.358Z"
   },
   {
    "duration": 43,
    "start_time": "2023-01-10T16:43:16.426Z"
   },
   {
    "duration": 11,
    "start_time": "2023-01-10T16:43:16.471Z"
   },
   {
    "duration": 38,
    "start_time": "2023-01-10T16:43:16.483Z"
   },
   {
    "duration": 30,
    "start_time": "2023-01-10T16:43:16.523Z"
   },
   {
    "duration": 30,
    "start_time": "2023-01-10T16:43:16.555Z"
   },
   {
    "duration": 18,
    "start_time": "2023-01-10T16:43:16.586Z"
   },
   {
    "duration": 14,
    "start_time": "2023-01-10T16:43:16.606Z"
   },
   {
    "duration": 17,
    "start_time": "2023-01-10T16:43:16.622Z"
   },
   {
    "duration": 469,
    "start_time": "2023-01-10T16:43:16.642Z"
   },
   {
    "duration": 10,
    "start_time": "2023-01-10T16:43:17.113Z"
   },
   {
    "duration": 17,
    "start_time": "2023-01-10T16:43:17.124Z"
   },
   {
    "duration": 30,
    "start_time": "2023-01-10T16:43:17.143Z"
   },
   {
    "duration": 4997,
    "start_time": "2023-01-10T16:43:17.175Z"
   },
   {
    "duration": 106,
    "start_time": "2023-01-10T16:43:22.174Z"
   },
   {
    "duration": 10,
    "start_time": "2023-01-10T16:43:51.402Z"
   },
   {
    "duration": 10,
    "start_time": "2023-01-10T16:43:54.498Z"
   },
   {
    "duration": 10,
    "start_time": "2023-01-10T16:43:59.723Z"
   },
   {
    "duration": 99,
    "start_time": "2023-01-10T16:45:35.005Z"
   },
   {
    "duration": 1092,
    "start_time": "2023-01-10T16:45:47.033Z"
   },
   {
    "duration": 30,
    "start_time": "2023-01-10T16:45:48.127Z"
   },
   {
    "duration": 14,
    "start_time": "2023-01-10T16:45:48.158Z"
   },
   {
    "duration": 23,
    "start_time": "2023-01-10T16:45:48.174Z"
   },
   {
    "duration": 4,
    "start_time": "2023-01-10T16:45:48.199Z"
   },
   {
    "duration": 8,
    "start_time": "2023-01-10T16:45:48.205Z"
   },
   {
    "duration": 9,
    "start_time": "2023-01-10T16:45:48.214Z"
   },
   {
    "duration": 5,
    "start_time": "2023-01-10T16:45:48.225Z"
   },
   {
    "duration": 8,
    "start_time": "2023-01-10T16:45:48.232Z"
   },
   {
    "duration": 479,
    "start_time": "2023-01-10T16:45:48.241Z"
   },
   {
    "duration": 10,
    "start_time": "2023-01-10T16:45:48.722Z"
   },
   {
    "duration": 13,
    "start_time": "2023-01-10T16:45:48.734Z"
   },
   {
    "duration": 8,
    "start_time": "2023-01-10T16:45:48.749Z"
   },
   {
    "duration": 5070,
    "start_time": "2023-01-10T16:45:48.758Z"
   },
   {
    "duration": 106,
    "start_time": "2023-01-10T16:45:53.830Z"
   },
   {
    "duration": 111,
    "start_time": "2023-01-10T16:48:25.960Z"
   },
   {
    "duration": 115,
    "start_time": "2023-01-10T16:49:40.250Z"
   },
   {
    "duration": 101,
    "start_time": "2023-01-10T16:52:37.302Z"
   },
   {
    "duration": 97,
    "start_time": "2023-01-10T16:52:48.465Z"
   },
   {
    "duration": 92,
    "start_time": "2023-01-10T16:52:56.388Z"
   },
   {
    "duration": 105,
    "start_time": "2023-01-10T16:59:27.772Z"
   },
   {
    "duration": 10,
    "start_time": "2023-01-10T16:59:34.978Z"
   },
   {
    "duration": 13,
    "start_time": "2023-01-10T16:59:50.451Z"
   },
   {
    "duration": 9,
    "start_time": "2023-01-10T16:59:53.042Z"
   },
   {
    "duration": 10,
    "start_time": "2023-01-10T16:59:59.537Z"
   },
   {
    "duration": 13,
    "start_time": "2023-01-10T17:00:40.326Z"
   },
   {
    "duration": 11,
    "start_time": "2023-01-10T17:00:43.029Z"
   },
   {
    "duration": 12,
    "start_time": "2023-01-10T17:00:45.020Z"
   },
   {
    "duration": 11,
    "start_time": "2023-01-10T17:01:06.054Z"
   },
   {
    "duration": 11,
    "start_time": "2023-01-10T17:01:11.620Z"
   },
   {
    "duration": 10,
    "start_time": "2023-01-10T17:01:14.160Z"
   },
   {
    "duration": 11,
    "start_time": "2023-01-10T17:01:16.293Z"
   },
   {
    "duration": 9,
    "start_time": "2023-01-10T17:01:18.581Z"
   },
   {
    "duration": 10,
    "start_time": "2023-01-10T17:01:22.203Z"
   },
   {
    "duration": 9,
    "start_time": "2023-01-10T17:02:34.938Z"
   },
   {
    "duration": 10,
    "start_time": "2023-01-10T17:02:53.748Z"
   },
   {
    "duration": 10,
    "start_time": "2023-01-10T17:03:05.315Z"
   },
   {
    "duration": 17,
    "start_time": "2023-01-10T17:03:14.610Z"
   },
   {
    "duration": 18,
    "start_time": "2023-01-10T17:03:25.199Z"
   },
   {
    "duration": 12,
    "start_time": "2023-01-10T17:03:30.497Z"
   },
   {
    "duration": 11,
    "start_time": "2023-01-10T17:04:50.843Z"
   },
   {
    "duration": 10,
    "start_time": "2023-01-10T17:04:59.982Z"
   },
   {
    "duration": 11,
    "start_time": "2023-01-10T17:32:57.837Z"
   },
   {
    "duration": 4,
    "start_time": "2023-01-10T17:33:10.974Z"
   },
   {
    "duration": 19236,
    "start_time": "2023-01-10T17:33:13.992Z"
   },
   {
    "duration": 1621,
    "start_time": "2023-01-10T17:34:52.233Z"
   },
   {
    "duration": 1896,
    "start_time": "2023-01-10T17:35:37.253Z"
   },
   {
    "duration": 1951,
    "start_time": "2023-01-10T17:35:55.076Z"
   },
   {
    "duration": 1917,
    "start_time": "2023-01-10T17:36:18.358Z"
   },
   {
    "duration": 1666,
    "start_time": "2023-01-10T17:36:28.714Z"
   },
   {
    "duration": 671,
    "start_time": "2023-01-10T17:36:35.456Z"
   },
   {
    "duration": 2,
    "start_time": "2023-01-10T17:39:45.961Z"
   },
   {
    "duration": 692,
    "start_time": "2023-01-10T17:39:49.052Z"
   },
   {
    "duration": 57239,
    "start_time": "2023-01-10T17:41:00.273Z"
   },
   {
    "duration": 3,
    "start_time": "2023-01-10T17:42:48.664Z"
   },
   {
    "duration": 8028,
    "start_time": "2023-01-10T17:42:52.242Z"
   },
   {
    "duration": 19488,
    "start_time": "2023-01-10T17:43:06.163Z"
   },
   {
    "duration": 30,
    "start_time": "2023-01-10T17:46:20.264Z"
   },
   {
    "duration": 237,
    "start_time": "2023-01-10T17:55:46.132Z"
   },
   {
    "duration": 235,
    "start_time": "2023-01-10T17:55:58.466Z"
   },
   {
    "duration": 246,
    "start_time": "2023-01-10T17:56:09.853Z"
   },
   {
    "duration": 297,
    "start_time": "2023-01-10T17:57:40.268Z"
   },
   {
    "duration": 230,
    "start_time": "2023-01-10T17:57:51.676Z"
   },
   {
    "duration": 1119,
    "start_time": "2023-01-10T17:58:33.504Z"
   },
   {
    "duration": 32,
    "start_time": "2023-01-10T17:58:34.626Z"
   },
   {
    "duration": 19,
    "start_time": "2023-01-10T17:58:34.661Z"
   },
   {
    "duration": 29,
    "start_time": "2023-01-10T17:58:34.685Z"
   },
   {
    "duration": 8,
    "start_time": "2023-01-10T17:58:34.718Z"
   },
   {
    "duration": 10,
    "start_time": "2023-01-10T17:58:34.728Z"
   },
   {
    "duration": 11,
    "start_time": "2023-01-10T17:58:34.740Z"
   },
   {
    "duration": 5,
    "start_time": "2023-01-10T17:58:34.753Z"
   },
   {
    "duration": 9,
    "start_time": "2023-01-10T17:58:34.760Z"
   },
   {
    "duration": 531,
    "start_time": "2023-01-10T17:58:34.771Z"
   },
   {
    "duration": 14,
    "start_time": "2023-01-10T17:58:35.304Z"
   },
   {
    "duration": 30,
    "start_time": "2023-01-10T17:58:35.320Z"
   },
   {
    "duration": 9,
    "start_time": "2023-01-10T17:58:35.352Z"
   },
   {
    "duration": 4989,
    "start_time": "2023-01-10T17:58:35.364Z"
   },
   {
    "duration": 123,
    "start_time": "2023-01-10T17:58:40.356Z"
   },
   {
    "duration": 124,
    "start_time": "2023-01-10T17:58:40.483Z"
   },
   {
    "duration": 92,
    "start_time": "2023-01-10T17:58:40.608Z"
   },
   {
    "duration": 103,
    "start_time": "2023-01-10T17:58:40.702Z"
   },
   {
    "duration": 19253,
    "start_time": "2023-01-10T17:58:40.806Z"
   },
   {
    "duration": 23,
    "start_time": "2023-01-10T17:59:00.060Z"
   },
   {
    "duration": 101,
    "start_time": "2023-01-10T17:59:00.085Z"
   },
   {
    "duration": 12,
    "start_time": "2023-01-10T17:59:29.190Z"
   },
   {
    "duration": 17,
    "start_time": "2023-01-10T17:59:38.245Z"
   },
   {
    "duration": 17,
    "start_time": "2023-01-10T17:59:45.350Z"
   },
   {
    "duration": 1127,
    "start_time": "2023-01-10T18:01:14.030Z"
   },
   {
    "duration": 33,
    "start_time": "2023-01-10T18:01:15.159Z"
   },
   {
    "duration": 12,
    "start_time": "2023-01-10T18:01:15.194Z"
   },
   {
    "duration": 22,
    "start_time": "2023-01-10T18:01:15.208Z"
   },
   {
    "duration": 5,
    "start_time": "2023-01-10T18:01:15.232Z"
   },
   {
    "duration": 10,
    "start_time": "2023-01-10T18:01:15.238Z"
   },
   {
    "duration": 11,
    "start_time": "2023-01-10T18:01:15.250Z"
   },
   {
    "duration": 12,
    "start_time": "2023-01-10T18:01:15.262Z"
   },
   {
    "duration": 23,
    "start_time": "2023-01-10T18:01:15.276Z"
   },
   {
    "duration": 478,
    "start_time": "2023-01-10T18:01:15.301Z"
   },
   {
    "duration": 9,
    "start_time": "2023-01-10T18:01:15.781Z"
   },
   {
    "duration": 29,
    "start_time": "2023-01-10T18:01:15.792Z"
   },
   {
    "duration": 8,
    "start_time": "2023-01-10T18:01:15.822Z"
   },
   {
    "duration": 5068,
    "start_time": "2023-01-10T18:01:15.832Z"
   },
   {
    "duration": 105,
    "start_time": "2023-01-10T18:01:20.901Z"
   },
   {
    "duration": 118,
    "start_time": "2023-01-10T18:01:21.012Z"
   },
   {
    "duration": 103,
    "start_time": "2023-01-10T18:01:21.131Z"
   },
   {
    "duration": 107,
    "start_time": "2023-01-10T18:01:21.236Z"
   },
   {
    "duration": 18512,
    "start_time": "2023-01-10T18:01:21.344Z"
   },
   {
    "duration": 20,
    "start_time": "2023-01-10T18:01:39.857Z"
   },
   {
    "duration": 106,
    "start_time": "2023-01-10T18:01:39.879Z"
   },
   {
    "duration": 11,
    "start_time": "2023-01-10T18:01:39.987Z"
   },
   {
    "duration": 35,
    "start_time": "2023-01-10T18:01:40.000Z"
   },
   {
    "duration": 34,
    "start_time": "2023-01-10T18:01:40.036Z"
   },
   {
    "duration": 22,
    "start_time": "2023-01-10T18:02:25.617Z"
   },
   {
    "duration": 86,
    "start_time": "2023-01-10T18:04:56.891Z"
   },
   {
    "duration": 79,
    "start_time": "2023-01-10T18:04:59.969Z"
   },
   {
    "duration": 85,
    "start_time": "2023-01-10T18:05:02.155Z"
   },
   {
    "duration": 80,
    "start_time": "2023-01-10T18:05:41.493Z"
   },
   {
    "duration": 82,
    "start_time": "2023-01-10T18:05:44.729Z"
   },
   {
    "duration": 81,
    "start_time": "2023-01-10T18:05:51.275Z"
   },
   {
    "duration": 96,
    "start_time": "2023-01-10T18:07:13.597Z"
   },
   {
    "duration": 2254,
    "start_time": "2023-01-10T18:07:51.370Z"
   },
   {
    "duration": 80,
    "start_time": "2023-01-10T18:08:24.236Z"
   },
   {
    "duration": 77,
    "start_time": "2023-01-10T18:08:30.238Z"
   },
   {
    "duration": 80,
    "start_time": "2023-01-10T18:08:34.376Z"
   },
   {
    "duration": 81,
    "start_time": "2023-01-10T18:08:39.653Z"
   },
   {
    "duration": 80,
    "start_time": "2023-01-10T18:08:44.930Z"
   },
   {
    "duration": 88,
    "start_time": "2023-01-10T18:08:47.918Z"
   },
   {
    "duration": 1136,
    "start_time": "2023-01-10T18:15:53.630Z"
   },
   {
    "duration": 28,
    "start_time": "2023-01-10T18:15:54.768Z"
   },
   {
    "duration": 13,
    "start_time": "2023-01-10T18:15:54.798Z"
   },
   {
    "duration": 22,
    "start_time": "2023-01-10T18:15:54.813Z"
   },
   {
    "duration": 5,
    "start_time": "2023-01-10T18:15:54.838Z"
   },
   {
    "duration": 12,
    "start_time": "2023-01-10T18:15:54.845Z"
   },
   {
    "duration": 8,
    "start_time": "2023-01-10T18:15:54.860Z"
   },
   {
    "duration": 7,
    "start_time": "2023-01-10T18:15:54.870Z"
   },
   {
    "duration": 18,
    "start_time": "2023-01-10T18:15:54.879Z"
   },
   {
    "duration": 490,
    "start_time": "2023-01-10T18:15:54.899Z"
   },
   {
    "duration": 11,
    "start_time": "2023-01-10T18:15:55.391Z"
   },
   {
    "duration": 10,
    "start_time": "2023-01-10T18:15:55.413Z"
   },
   {
    "duration": 14,
    "start_time": "2023-01-10T18:15:55.426Z"
   },
   {
    "duration": 5058,
    "start_time": "2023-01-10T18:15:55.443Z"
   },
   {
    "duration": 118,
    "start_time": "2023-01-10T18:16:00.503Z"
   },
   {
    "duration": 100,
    "start_time": "2023-01-10T18:16:00.623Z"
   },
   {
    "duration": 104,
    "start_time": "2023-01-10T18:16:00.724Z"
   },
   {
    "duration": 102,
    "start_time": "2023-01-10T18:16:00.829Z"
   },
   {
    "duration": 19814,
    "start_time": "2023-01-10T18:16:00.932Z"
   },
   {
    "duration": 94,
    "start_time": "2023-01-10T18:16:20.748Z"
   },
   {
    "duration": 14,
    "start_time": "2023-01-10T18:16:20.844Z"
   },
   {
    "duration": 16,
    "start_time": "2023-01-10T18:16:20.860Z"
   },
   {
    "duration": 37,
    "start_time": "2023-01-10T18:16:20.878Z"
   },
   {
    "duration": 27,
    "start_time": "2023-01-10T18:16:20.917Z"
   },
   {
    "duration": 6,
    "start_time": "2023-01-10T18:19:15.136Z"
   },
   {
    "duration": 7,
    "start_time": "2023-01-10T18:20:09.256Z"
   },
   {
    "duration": 13,
    "start_time": "2023-01-10T18:20:10.966Z"
   },
   {
    "duration": 8,
    "start_time": "2023-01-10T18:21:06.917Z"
   },
   {
    "duration": 3,
    "start_time": "2023-01-10T18:39:42.972Z"
   },
   {
    "duration": 96,
    "start_time": "2023-01-10T18:49:28.455Z"
   },
   {
    "duration": 96,
    "start_time": "2023-01-10T18:49:39.896Z"
   },
   {
    "duration": 3,
    "start_time": "2023-01-10T18:49:49.295Z"
   },
   {
    "duration": 64,
    "start_time": "2023-01-10T18:49:49.300Z"
   },
   {
    "duration": 14,
    "start_time": "2023-01-10T18:49:49.366Z"
   },
   {
    "duration": 27,
    "start_time": "2023-01-10T18:49:49.381Z"
   },
   {
    "duration": 49,
    "start_time": "2023-01-10T18:49:49.412Z"
   },
   {
    "duration": 14,
    "start_time": "2023-01-10T18:49:49.463Z"
   },
   {
    "duration": 18,
    "start_time": "2023-01-10T18:49:49.478Z"
   },
   {
    "duration": 12,
    "start_time": "2023-01-10T18:49:49.498Z"
   },
   {
    "duration": 18,
    "start_time": "2023-01-10T18:49:49.512Z"
   },
   {
    "duration": 505,
    "start_time": "2023-01-10T18:49:49.531Z"
   },
   {
    "duration": 12,
    "start_time": "2023-01-10T18:49:50.038Z"
   },
   {
    "duration": 38,
    "start_time": "2023-01-10T18:49:50.051Z"
   },
   {
    "duration": 26,
    "start_time": "2023-01-10T18:49:50.091Z"
   },
   {
    "duration": 5228,
    "start_time": "2023-01-10T18:49:50.121Z"
   },
   {
    "duration": 122,
    "start_time": "2023-01-10T18:49:55.351Z"
   },
   {
    "duration": 123,
    "start_time": "2023-01-10T18:49:55.474Z"
   },
   {
    "duration": 111,
    "start_time": "2023-01-10T18:49:55.599Z"
   },
   {
    "duration": 104,
    "start_time": "2023-01-10T18:49:55.712Z"
   },
   {
    "duration": 19568,
    "start_time": "2023-01-10T18:49:55.818Z"
   },
   {
    "duration": 93,
    "start_time": "2023-01-10T18:50:15.388Z"
   },
   {
    "duration": 12,
    "start_time": "2023-01-10T18:50:15.483Z"
   },
   {
    "duration": 28,
    "start_time": "2023-01-10T18:50:15.497Z"
   },
   {
    "duration": 19,
    "start_time": "2023-01-10T18:50:15.526Z"
   },
   {
    "duration": 22,
    "start_time": "2023-01-10T18:50:15.547Z"
   },
   {
    "duration": 7,
    "start_time": "2023-01-10T18:50:15.571Z"
   },
   {
    "duration": 41,
    "start_time": "2023-01-10T18:50:15.580Z"
   },
   {
    "duration": 7,
    "start_time": "2023-01-10T18:50:15.623Z"
   },
   {
    "duration": 12,
    "start_time": "2023-01-10T18:50:15.632Z"
   },
   {
    "duration": 0,
    "start_time": "2023-01-10T18:50:15.646Z"
   },
   {
    "duration": 13,
    "start_time": "2023-01-10T18:50:44.577Z"
   },
   {
    "duration": 13,
    "start_time": "2023-01-10T18:50:58.048Z"
   },
   {
    "duration": 12,
    "start_time": "2023-01-10T18:51:12.996Z"
   },
   {
    "duration": 18,
    "start_time": "2023-01-10T18:53:53.450Z"
   },
   {
    "duration": 3,
    "start_time": "2023-01-10T18:54:30.036Z"
   },
   {
    "duration": 20,
    "start_time": "2023-01-10T18:54:34.922Z"
   },
   {
    "duration": 16,
    "start_time": "2023-01-10T18:56:39.762Z"
   },
   {
    "duration": 5,
    "start_time": "2023-01-10T18:57:22.878Z"
   },
   {
    "duration": 1143,
    "start_time": "2023-01-10T19:00:47.800Z"
   },
   {
    "duration": 29,
    "start_time": "2023-01-10T19:00:48.945Z"
   },
   {
    "duration": 13,
    "start_time": "2023-01-10T19:00:48.976Z"
   },
   {
    "duration": 18,
    "start_time": "2023-01-10T19:00:48.991Z"
   },
   {
    "duration": 6,
    "start_time": "2023-01-10T19:00:49.011Z"
   },
   {
    "duration": 12,
    "start_time": "2023-01-10T19:00:49.018Z"
   },
   {
    "duration": 9,
    "start_time": "2023-01-10T19:00:49.032Z"
   },
   {
    "duration": 11,
    "start_time": "2023-01-10T19:00:49.042Z"
   },
   {
    "duration": 9,
    "start_time": "2023-01-10T19:00:49.054Z"
   },
   {
    "duration": 493,
    "start_time": "2023-01-10T19:00:49.065Z"
   },
   {
    "duration": 10,
    "start_time": "2023-01-10T19:00:49.560Z"
   },
   {
    "duration": 9,
    "start_time": "2023-01-10T19:00:49.572Z"
   },
   {
    "duration": 31,
    "start_time": "2023-01-10T19:00:49.583Z"
   },
   {
    "duration": 5010,
    "start_time": "2023-01-10T19:00:49.617Z"
   },
   {
    "duration": 136,
    "start_time": "2023-01-10T19:00:54.629Z"
   },
   {
    "duration": 106,
    "start_time": "2023-01-10T19:00:54.767Z"
   },
   {
    "duration": 111,
    "start_time": "2023-01-10T19:00:54.875Z"
   },
   {
    "duration": 103,
    "start_time": "2023-01-10T19:00:54.988Z"
   },
   {
    "duration": 19168,
    "start_time": "2023-01-10T19:00:55.093Z"
   },
   {
    "duration": 90,
    "start_time": "2023-01-10T19:01:14.263Z"
   },
   {
    "duration": 13,
    "start_time": "2023-01-10T19:01:14.354Z"
   },
   {
    "duration": 33,
    "start_time": "2023-01-10T19:01:14.368Z"
   },
   {
    "duration": 22,
    "start_time": "2023-01-10T19:01:14.403Z"
   },
   {
    "duration": 64,
    "start_time": "2023-01-10T19:01:14.427Z"
   },
   {
    "duration": 6,
    "start_time": "2023-01-10T19:01:14.493Z"
   },
   {
    "duration": 25,
    "start_time": "2023-01-10T19:01:14.501Z"
   },
   {
    "duration": 6,
    "start_time": "2023-01-10T19:01:14.528Z"
   },
   {
    "duration": 1544,
    "start_time": "2023-01-10T19:23:52.899Z"
   },
   {
    "duration": 120,
    "start_time": "2023-01-10T19:23:54.445Z"
   },
   {
    "duration": 12,
    "start_time": "2023-01-10T19:23:54.567Z"
   },
   {
    "duration": 28,
    "start_time": "2023-01-10T19:23:54.580Z"
   },
   {
    "duration": 7,
    "start_time": "2023-01-10T19:23:54.610Z"
   },
   {
    "duration": 16,
    "start_time": "2023-01-10T19:23:54.618Z"
   },
   {
    "duration": 9,
    "start_time": "2023-01-10T19:23:54.635Z"
   },
   {
    "duration": 11,
    "start_time": "2023-01-10T19:23:54.645Z"
   },
   {
    "duration": 7,
    "start_time": "2023-01-10T19:23:54.657Z"
   },
   {
    "duration": 446,
    "start_time": "2023-01-10T19:23:54.665Z"
   },
   {
    "duration": 20,
    "start_time": "2023-01-10T19:23:55.113Z"
   },
   {
    "duration": 7,
    "start_time": "2023-01-10T19:23:55.135Z"
   },
   {
    "duration": 11,
    "start_time": "2023-01-10T19:23:55.144Z"
   },
   {
    "duration": 5271,
    "start_time": "2023-01-10T19:23:55.157Z"
   },
   {
    "duration": 216,
    "start_time": "2023-01-10T19:24:00.430Z"
   },
   {
    "duration": 192,
    "start_time": "2023-01-10T19:24:00.648Z"
   },
   {
    "duration": 154,
    "start_time": "2023-01-10T19:24:00.842Z"
   },
   {
    "duration": 94,
    "start_time": "2023-01-10T19:24:00.998Z"
   },
   {
    "duration": 19428,
    "start_time": "2023-01-10T19:24:01.093Z"
   },
   {
    "duration": 81,
    "start_time": "2023-01-10T19:24:20.522Z"
   },
   {
    "duration": 26,
    "start_time": "2023-01-10T19:24:20.605Z"
   },
   {
    "duration": 20,
    "start_time": "2023-01-10T19:24:20.633Z"
   },
   {
    "duration": 14,
    "start_time": "2023-01-10T19:24:20.655Z"
   },
   {
    "duration": 20,
    "start_time": "2023-01-10T19:24:20.670Z"
   },
   {
    "duration": 4,
    "start_time": "2023-01-10T19:24:20.691Z"
   },
   {
    "duration": 30,
    "start_time": "2023-01-10T19:24:20.697Z"
   },
   {
    "duration": 5,
    "start_time": "2023-01-10T19:24:20.729Z"
   },
   {
    "duration": 3,
    "start_time": "2023-01-10T19:40:47.928Z"
   },
   {
    "duration": 1216,
    "start_time": "2023-01-11T12:13:17.863Z"
   },
   {
    "duration": 77,
    "start_time": "2023-01-11T12:13:19.081Z"
   },
   {
    "duration": 13,
    "start_time": "2023-01-11T12:13:19.160Z"
   },
   {
    "duration": 47,
    "start_time": "2023-01-11T12:13:19.175Z"
   },
   {
    "duration": 6,
    "start_time": "2023-01-11T12:13:19.225Z"
   },
   {
    "duration": 11,
    "start_time": "2023-01-11T12:13:19.233Z"
   },
   {
    "duration": 8,
    "start_time": "2023-01-11T12:13:19.246Z"
   },
   {
    "duration": 8,
    "start_time": "2023-01-11T12:13:19.256Z"
   },
   {
    "duration": 7,
    "start_time": "2023-01-11T12:13:19.266Z"
   },
   {
    "duration": 496,
    "start_time": "2023-01-11T12:13:19.278Z"
   },
   {
    "duration": 11,
    "start_time": "2023-01-11T12:13:19.777Z"
   },
   {
    "duration": 12,
    "start_time": "2023-01-11T12:13:19.790Z"
   },
   {
    "duration": 11,
    "start_time": "2023-01-11T12:13:19.803Z"
   },
   {
    "duration": 5143,
    "start_time": "2023-01-11T12:13:19.815Z"
   },
   {
    "duration": 124,
    "start_time": "2023-01-11T12:13:24.959Z"
   },
   {
    "duration": 110,
    "start_time": "2023-01-11T12:13:25.085Z"
   },
   {
    "duration": 101,
    "start_time": "2023-01-11T12:13:25.197Z"
   },
   {
    "duration": 107,
    "start_time": "2023-01-11T12:13:25.300Z"
   },
   {
    "duration": 18064,
    "start_time": "2023-01-11T12:13:25.409Z"
   },
   {
    "duration": 77,
    "start_time": "2023-01-11T12:13:43.475Z"
   },
   {
    "duration": 12,
    "start_time": "2023-01-11T12:13:43.553Z"
   },
   {
    "duration": 15,
    "start_time": "2023-01-11T12:13:43.578Z"
   },
   {
    "duration": 16,
    "start_time": "2023-01-11T12:13:43.594Z"
   },
   {
    "duration": 31,
    "start_time": "2023-01-11T12:13:43.612Z"
   },
   {
    "duration": 33,
    "start_time": "2023-01-11T12:13:43.645Z"
   },
   {
    "duration": 11,
    "start_time": "2023-01-11T12:13:43.680Z"
   },
   {
    "duration": 5,
    "start_time": "2023-01-11T12:13:43.692Z"
   },
   {
    "duration": 113,
    "start_time": "2023-01-11T12:13:43.700Z"
   },
   {
    "duration": 10,
    "start_time": "2023-01-11T12:14:40.685Z"
   },
   {
    "duration": 3,
    "start_time": "2023-01-11T12:16:21.345Z"
   },
   {
    "duration": 6,
    "start_time": "2023-01-11T12:16:25.088Z"
   },
   {
    "duration": 18,
    "start_time": "2023-01-11T12:29:35.107Z"
   },
   {
    "duration": 10,
    "start_time": "2023-01-11T12:33:01.323Z"
   },
   {
    "duration": 17,
    "start_time": "2023-01-11T12:33:24.008Z"
   },
   {
    "duration": 13,
    "start_time": "2023-01-11T12:33:56.889Z"
   },
   {
    "duration": 21,
    "start_time": "2023-01-11T12:33:59.620Z"
   },
   {
    "duration": 13,
    "start_time": "2023-01-11T12:34:04.276Z"
   },
   {
    "duration": 19,
    "start_time": "2023-01-11T12:34:07.829Z"
   },
   {
    "duration": 14,
    "start_time": "2023-01-11T12:34:25.309Z"
   },
   {
    "duration": 5,
    "start_time": "2023-01-11T12:34:53.045Z"
   },
   {
    "duration": 10,
    "start_time": "2023-01-11T12:35:14.509Z"
   },
   {
    "duration": 8,
    "start_time": "2023-01-11T12:35:24.424Z"
   },
   {
    "duration": 4,
    "start_time": "2023-01-11T12:36:32.330Z"
   },
   {
    "duration": 9,
    "start_time": "2023-01-11T12:36:38.689Z"
   },
   {
    "duration": 4,
    "start_time": "2023-01-11T12:39:57.674Z"
   },
   {
    "duration": 137,
    "start_time": "2023-01-11T12:41:08.091Z"
   },
   {
    "duration": 138,
    "start_time": "2023-01-11T12:41:43.961Z"
   },
   {
    "duration": 17,
    "start_time": "2023-01-11T12:43:13.526Z"
   },
   {
    "duration": 25,
    "start_time": "2023-01-11T12:43:21.630Z"
   },
   {
    "duration": 10,
    "start_time": "2023-01-11T12:43:33.640Z"
   },
   {
    "duration": 1111,
    "start_time": "2023-01-11T12:44:03.968Z"
   },
   {
    "duration": 30,
    "start_time": "2023-01-11T12:44:05.080Z"
   },
   {
    "duration": 14,
    "start_time": "2023-01-11T12:44:05.112Z"
   },
   {
    "duration": 21,
    "start_time": "2023-01-11T12:44:05.128Z"
   },
   {
    "duration": 11,
    "start_time": "2023-01-11T12:44:05.151Z"
   },
   {
    "duration": 12,
    "start_time": "2023-01-11T12:44:05.163Z"
   },
   {
    "duration": 6,
    "start_time": "2023-01-11T12:44:05.176Z"
   },
   {
    "duration": 5,
    "start_time": "2023-01-11T12:44:05.184Z"
   },
   {
    "duration": 17,
    "start_time": "2023-01-11T12:44:05.191Z"
   },
   {
    "duration": 475,
    "start_time": "2023-01-11T12:44:05.210Z"
   },
   {
    "duration": 11,
    "start_time": "2023-01-11T12:44:05.687Z"
   },
   {
    "duration": 8,
    "start_time": "2023-01-11T12:44:05.700Z"
   },
   {
    "duration": 11,
    "start_time": "2023-01-11T12:44:05.710Z"
   },
   {
    "duration": 4932,
    "start_time": "2023-01-11T12:44:05.723Z"
   },
   {
    "duration": 116,
    "start_time": "2023-01-11T12:44:10.657Z"
   },
   {
    "duration": 100,
    "start_time": "2023-01-11T12:44:10.778Z"
   },
   {
    "duration": 100,
    "start_time": "2023-01-11T12:44:10.880Z"
   },
   {
    "duration": 104,
    "start_time": "2023-01-11T12:44:10.981Z"
   },
   {
    "duration": 18133,
    "start_time": "2023-01-11T12:44:11.086Z"
   },
   {
    "duration": 81,
    "start_time": "2023-01-11T12:44:29.221Z"
   },
   {
    "duration": 12,
    "start_time": "2023-01-11T12:44:29.304Z"
   },
   {
    "duration": 15,
    "start_time": "2023-01-11T12:44:29.318Z"
   },
   {
    "duration": 19,
    "start_time": "2023-01-11T12:44:29.335Z"
   },
   {
    "duration": 21,
    "start_time": "2023-01-11T12:44:29.378Z"
   },
   {
    "duration": 6,
    "start_time": "2023-01-11T12:44:29.401Z"
   },
   {
    "duration": 13,
    "start_time": "2023-01-11T12:44:29.408Z"
   },
   {
    "duration": 5,
    "start_time": "2023-01-11T12:44:29.423Z"
   },
   {
    "duration": 6,
    "start_time": "2023-01-11T12:44:29.429Z"
   },
   {
    "duration": 10,
    "start_time": "2023-01-11T12:44:29.437Z"
   },
   {
    "duration": 31,
    "start_time": "2023-01-11T12:44:29.449Z"
   },
   {
    "duration": 123,
    "start_time": "2023-01-11T12:44:29.482Z"
   },
   {
    "duration": 6,
    "start_time": "2023-01-11T12:44:29.607Z"
   },
   {
    "duration": 6,
    "start_time": "2023-01-11T12:45:08.797Z"
   }
  ],
  "kernelspec": {
   "display_name": "Python 3 (ipykernel)",
   "language": "python",
   "name": "python3"
  },
  "language_info": {
   "codemirror_mode": {
    "name": "ipython",
    "version": 3
   },
   "file_extension": ".py",
   "mimetype": "text/x-python",
   "name": "python",
   "nbconvert_exporter": "python",
   "pygments_lexer": "ipython3",
   "version": "3.9.13"
  },
  "toc": {
   "base_numbering": 1,
   "nav_menu": {},
   "number_sections": true,
   "sideBar": true,
   "skip_h1_title": true,
   "title_cell": "Table of Contents",
   "title_sidebar": "Contents",
   "toc_cell": false,
   "toc_position": {},
   "toc_section_display": true,
   "toc_window_display": false
  }
 },
 "nbformat": 4,
 "nbformat_minor": 2
}
